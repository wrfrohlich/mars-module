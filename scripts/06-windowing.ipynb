{
 "cells": [
  {
   "cell_type": "markdown",
   "metadata": {},
   "source": [
    "<H1>Windowing"
   ]
  },
  {
   "cell_type": "markdown",
   "metadata": {},
   "source": [
    "<H3>Libraries"
   ]
  },
  {
   "cell_type": "code",
   "execution_count": 1,
   "metadata": {},
   "outputs": [],
   "source": [
    "import os\n",
    "import pandas as pd"
   ]
  },
  {
   "cell_type": "markdown",
   "metadata": {},
   "source": [
    "<H3>Variables"
   ]
  },
  {
   "cell_type": "code",
   "execution_count": 2,
   "metadata": {},
   "outputs": [],
   "source": [
    "classification = 'binary'\n",
    "#classification = 'selected'\n",
    "\n",
    "project = 'athena-i'\n",
    "train_file = 'train-'\n",
    "new_train_file = 'wind-train-'\n",
    "\n",
    "window = 600\n",
    "overlap = 0.5\n",
    "\n",
    "dataset_path = '%s/%s/dataset/%s/' % (os.getenv('HOME'), project, classification)"
   ]
  },
  {
   "cell_type": "markdown",
   "metadata": {},
   "source": [
    "<H3>Functions and Methods"
   ]
  },
  {
   "cell_type": "markdown",
   "metadata": {},
   "source": [
    "Load Dataset"
   ]
  },
  {
   "cell_type": "code",
   "execution_count": 3,
   "metadata": {},
   "outputs": [],
   "source": [
    "def load_dataset(path, file):\n",
    "    x_train = pd.read_csv('%s%sx' % (path, file), delimiter=';')\n",
    "    y_train = pd.read_csv('%s%sy' % (path, file), delimiter=';')\n",
    "        \n",
    "    return(x_train, y_train)"
   ]
  },
  {
   "cell_type": "code",
   "execution_count": 4,
   "metadata": {},
   "outputs": [],
   "source": [
    "def windowing(x_train, y_train, window, overlap):\n",
    "    new_x_train = pd.DataFrame()\n",
    "    new_y_train = pd.DataFrame()\n",
    "    new_x_train = new_x_train.append(x_train[0:int(window*overlap)])\n",
    "    new_y_train = new_y_train.append(y_train[0:int(window*overlap)])\n",
    "    for i in range(0, len(x_train), window):\n",
    "        new_x_train = new_x_train.append(x_train[i:i+window])\n",
    "        new_x_train = new_x_train.append(x_train[int(i+window*overlap):int(i+window+window*overlap)])\n",
    "        new_y_train = new_y_train.append(y_train[i:i+window])\n",
    "        new_y_train = new_y_train.append(y_train[int(i+window*overlap):int(i+window+window*overlap)])\n",
    "        \n",
    "    print('Size:\\n X: %f - Y: %f' % (len(new_x_train), len(new_y_train)))\n",
    "    return(new_x_train, new_y_train)"
   ]
  },
  {
   "cell_type": "code",
   "execution_count": 5,
   "metadata": {},
   "outputs": [],
   "source": [
    "def export(x_train, y_train, path, file):\n",
    "    x_train = x_train.reset_index()\n",
    "    y_train = y_train.reset_index()\n",
    "\n",
    "    x_train = x_train.drop(columns=['index'])\n",
    "    y_train = y_train.drop(columns=['index'])\n",
    "\n",
    "    x_train.to_csv('%s%sx' % (path, file), sep=';',header=True, index=False)\n",
    "    y_train.to_csv('%s%sy' % (path, file), sep=';',header=True, index=False)"
   ]
  },
  {
   "cell_type": "markdown",
   "metadata": {},
   "source": [
    "<h3>Call Methods"
   ]
  },
  {
   "cell_type": "code",
   "execution_count": 6,
   "metadata": {},
   "outputs": [],
   "source": [
    "x_train, y_train = load_dataset(dataset_path, train_file)"
   ]
  },
  {
   "cell_type": "code",
   "execution_count": 7,
   "metadata": {},
   "outputs": [
    {
     "name": "stdout",
     "output_type": "stream",
     "text": [
      "Size:\n",
      " X: 3600000.000000 - Y: 3600000.000000\n"
     ]
    }
   ],
   "source": [
    "x_train, y_train = windowing(x_train, y_train, window, overlap)"
   ]
  },
  {
   "cell_type": "code",
   "execution_count": 8,
   "metadata": {},
   "outputs": [],
   "source": [
    "export(x_train, y_train, dataset_path, new_train_file)"
   ]
  }
 ],
 "metadata": {
  "kernelspec": {
   "display_name": "Python 3",
   "language": "python",
   "name": "python3"
  },
  "language_info": {
   "codemirror_mode": {
    "name": "ipython",
    "version": 3
   },
   "file_extension": ".py",
   "mimetype": "text/x-python",
   "name": "python",
   "nbconvert_exporter": "python",
   "pygments_lexer": "ipython3",
   "version": "3.8.10"
  }
 },
 "nbformat": 4,
 "nbformat_minor": 4
}
