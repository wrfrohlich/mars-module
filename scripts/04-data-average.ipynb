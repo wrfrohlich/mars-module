{
 "cells": [
  {
   "cell_type": "code",
   "execution_count": 1,
   "metadata": {},
   "outputs": [],
   "source": [
    "import pandas as pd\n",
    "import matplotlib.pyplot as plt\n",
    "from biosppy import signals as bio_signals"
   ]
  },
  {
   "cell_type": "code",
   "execution_count": 2,
   "metadata": {},
   "outputs": [],
   "source": [
    "participants_name = \"Part01\"\n",
    "default_path = \"C:\\\\Users\\\\wrfro\\\\raspbit_data\\\\\""
   ]
  },
  {
   "cell_type": "code",
   "execution_count": 3,
   "metadata": {},
   "outputs": [],
   "source": [
    "participant_file = default_path + participants_name + \".csv\"\n",
    "data_processing = pd.read_csv(participant_file, delimiter=';')\n",
    "data_processing = data_processing[20000:len(data_processing)-20000].reset_index()"
   ]
  },
  {
   "cell_type": "code",
   "execution_count": 4,
   "metadata": {},
   "outputs": [],
   "source": [
    "pre_stress = data_processing[90000:150000].reset_index()\n",
    "stress = data_processing[300000:360000].reset_index()\n",
    "post_stress = data_processing[510000:570000].reset_index()\n",
    "\n",
    "pre_stress_eda = data_processing[200000:300000].reset_index()\n",
    "stress_eda = data_processing[350000:450000].reset_index()\n",
    "post_stress_eda = data_processing[500000:600000].reset_index()"
   ]
  },
  {
   "cell_type": "code",
   "execution_count": 5,
   "metadata": {},
   "outputs": [
    {
     "data": {
      "text/html": [
       "<div>\n",
       "<style scoped>\n",
       "    .dataframe tbody tr th:only-of-type {\n",
       "        vertical-align: middle;\n",
       "    }\n",
       "\n",
       "    .dataframe tbody tr th {\n",
       "        vertical-align: top;\n",
       "    }\n",
       "\n",
       "    .dataframe thead th {\n",
       "        text-align: right;\n",
       "    }\n",
       "</style>\n",
       "<table border=\"1\" class=\"dataframe\">\n",
       "  <thead>\n",
       "    <tr style=\"text-align: right;\">\n",
       "      <th></th>\n",
       "      <th>level_0</th>\n",
       "      <th>index</th>\n",
       "      <th>PARTICIPANT</th>\n",
       "      <th>CLINICAL</th>\n",
       "      <th>AGE</th>\n",
       "      <th>WEIGHT</th>\n",
       "      <th>HEIGHT</th>\n",
       "      <th>BMI</th>\n",
       "      <th>ECG</th>\n",
       "      <th>EDA</th>\n",
       "      <th>RESP</th>\n",
       "      <th>TIME</th>\n",
       "    </tr>\n",
       "  </thead>\n",
       "  <tbody>\n",
       "    <tr>\n",
       "      <th>0</th>\n",
       "      <td>90000</td>\n",
       "      <td>110000</td>\n",
       "      <td>part01</td>\n",
       "      <td>no</td>\n",
       "      <td>26</td>\n",
       "      <td>91</td>\n",
       "      <td>165</td>\n",
       "      <td>33.43</td>\n",
       "      <td>480</td>\n",
       "      <td>416</td>\n",
       "      <td>408</td>\n",
       "      <td>23/4/2021 8:20:49</td>\n",
       "    </tr>\n",
       "    <tr>\n",
       "      <th>1</th>\n",
       "      <td>90001</td>\n",
       "      <td>110001</td>\n",
       "      <td>part01</td>\n",
       "      <td>no</td>\n",
       "      <td>26</td>\n",
       "      <td>91</td>\n",
       "      <td>165</td>\n",
       "      <td>33.43</td>\n",
       "      <td>481</td>\n",
       "      <td>416</td>\n",
       "      <td>408</td>\n",
       "      <td>23/4/2021 8:20:49</td>\n",
       "    </tr>\n",
       "    <tr>\n",
       "      <th>2</th>\n",
       "      <td>90002</td>\n",
       "      <td>110002</td>\n",
       "      <td>part01</td>\n",
       "      <td>no</td>\n",
       "      <td>26</td>\n",
       "      <td>91</td>\n",
       "      <td>165</td>\n",
       "      <td>33.43</td>\n",
       "      <td>481</td>\n",
       "      <td>416</td>\n",
       "      <td>408</td>\n",
       "      <td>23/4/2021 8:20:49</td>\n",
       "    </tr>\n",
       "    <tr>\n",
       "      <th>3</th>\n",
       "      <td>90003</td>\n",
       "      <td>110003</td>\n",
       "      <td>part01</td>\n",
       "      <td>no</td>\n",
       "      <td>26</td>\n",
       "      <td>91</td>\n",
       "      <td>165</td>\n",
       "      <td>33.43</td>\n",
       "      <td>482</td>\n",
       "      <td>416</td>\n",
       "      <td>408</td>\n",
       "      <td>23/4/2021 8:20:49</td>\n",
       "    </tr>\n",
       "    <tr>\n",
       "      <th>4</th>\n",
       "      <td>90004</td>\n",
       "      <td>110004</td>\n",
       "      <td>part01</td>\n",
       "      <td>no</td>\n",
       "      <td>26</td>\n",
       "      <td>91</td>\n",
       "      <td>165</td>\n",
       "      <td>33.43</td>\n",
       "      <td>483</td>\n",
       "      <td>416</td>\n",
       "      <td>408</td>\n",
       "      <td>23/4/2021 8:20:49</td>\n",
       "    </tr>\n",
       "  </tbody>\n",
       "</table>\n",
       "</div>"
      ],
      "text/plain": [
       "   level_0   index PARTICIPANT CLINICAL  AGE  WEIGHT  HEIGHT    BMI  ECG  EDA  \\\n",
       "0    90000  110000      part01       no   26      91     165  33.43  480  416   \n",
       "1    90001  110001      part01       no   26      91     165  33.43  481  416   \n",
       "2    90002  110002      part01       no   26      91     165  33.43  481  416   \n",
       "3    90003  110003      part01       no   26      91     165  33.43  482  416   \n",
       "4    90004  110004      part01       no   26      91     165  33.43  483  416   \n",
       "\n",
       "   RESP               TIME  \n",
       "0   408  23/4/2021 8:20:49  \n",
       "1   408  23/4/2021 8:20:49  \n",
       "2   408  23/4/2021 8:20:49  \n",
       "3   408  23/4/2021 8:20:49  \n",
       "4   408  23/4/2021 8:20:49  "
      ]
     },
     "execution_count": 5,
     "metadata": {},
     "output_type": "execute_result"
    }
   ],
   "source": [
    "pre_stress.head()"
   ]
  },
  {
   "cell_type": "code",
   "execution_count": 6,
   "metadata": {},
   "outputs": [
    {
     "data": {
      "text/html": [
       "<div>\n",
       "<style scoped>\n",
       "    .dataframe tbody tr th:only-of-type {\n",
       "        vertical-align: middle;\n",
       "    }\n",
       "\n",
       "    .dataframe tbody tr th {\n",
       "        vertical-align: top;\n",
       "    }\n",
       "\n",
       "    .dataframe thead th {\n",
       "        text-align: right;\n",
       "    }\n",
       "</style>\n",
       "<table border=\"1\" class=\"dataframe\">\n",
       "  <thead>\n",
       "    <tr style=\"text-align: right;\">\n",
       "      <th></th>\n",
       "      <th>level_0</th>\n",
       "      <th>index</th>\n",
       "      <th>PARTICIPANT</th>\n",
       "      <th>CLINICAL</th>\n",
       "      <th>AGE</th>\n",
       "      <th>WEIGHT</th>\n",
       "      <th>HEIGHT</th>\n",
       "      <th>BMI</th>\n",
       "      <th>ECG</th>\n",
       "      <th>EDA</th>\n",
       "      <th>RESP</th>\n",
       "      <th>TIME</th>\n",
       "    </tr>\n",
       "  </thead>\n",
       "  <tbody>\n",
       "    <tr>\n",
       "      <th>0</th>\n",
       "      <td>90000</td>\n",
       "      <td>110000</td>\n",
       "      <td>part01</td>\n",
       "      <td>no</td>\n",
       "      <td>26</td>\n",
       "      <td>91</td>\n",
       "      <td>165</td>\n",
       "      <td>33.43</td>\n",
       "      <td>480</td>\n",
       "      <td>416</td>\n",
       "      <td>408</td>\n",
       "      <td>23/4/2021 8:20:49</td>\n",
       "    </tr>\n",
       "    <tr>\n",
       "      <th>1</th>\n",
       "      <td>90001</td>\n",
       "      <td>110001</td>\n",
       "      <td>part01</td>\n",
       "      <td>no</td>\n",
       "      <td>26</td>\n",
       "      <td>91</td>\n",
       "      <td>165</td>\n",
       "      <td>33.43</td>\n",
       "      <td>481</td>\n",
       "      <td>416</td>\n",
       "      <td>408</td>\n",
       "      <td>23/4/2021 8:20:49</td>\n",
       "    </tr>\n",
       "    <tr>\n",
       "      <th>2</th>\n",
       "      <td>90002</td>\n",
       "      <td>110002</td>\n",
       "      <td>part01</td>\n",
       "      <td>no</td>\n",
       "      <td>26</td>\n",
       "      <td>91</td>\n",
       "      <td>165</td>\n",
       "      <td>33.43</td>\n",
       "      <td>481</td>\n",
       "      <td>416</td>\n",
       "      <td>408</td>\n",
       "      <td>23/4/2021 8:20:49</td>\n",
       "    </tr>\n",
       "    <tr>\n",
       "      <th>3</th>\n",
       "      <td>90003</td>\n",
       "      <td>110003</td>\n",
       "      <td>part01</td>\n",
       "      <td>no</td>\n",
       "      <td>26</td>\n",
       "      <td>91</td>\n",
       "      <td>165</td>\n",
       "      <td>33.43</td>\n",
       "      <td>482</td>\n",
       "      <td>416</td>\n",
       "      <td>408</td>\n",
       "      <td>23/4/2021 8:20:49</td>\n",
       "    </tr>\n",
       "    <tr>\n",
       "      <th>4</th>\n",
       "      <td>90004</td>\n",
       "      <td>110004</td>\n",
       "      <td>part01</td>\n",
       "      <td>no</td>\n",
       "      <td>26</td>\n",
       "      <td>91</td>\n",
       "      <td>165</td>\n",
       "      <td>33.43</td>\n",
       "      <td>483</td>\n",
       "      <td>416</td>\n",
       "      <td>408</td>\n",
       "      <td>23/4/2021 8:20:49</td>\n",
       "    </tr>\n",
       "  </tbody>\n",
       "</table>\n",
       "</div>"
      ],
      "text/plain": [
       "   level_0   index PARTICIPANT CLINICAL  AGE  WEIGHT  HEIGHT    BMI  ECG  EDA  \\\n",
       "0    90000  110000      part01       no   26      91     165  33.43  480  416   \n",
       "1    90001  110001      part01       no   26      91     165  33.43  481  416   \n",
       "2    90002  110002      part01       no   26      91     165  33.43  481  416   \n",
       "3    90003  110003      part01       no   26      91     165  33.43  482  416   \n",
       "4    90004  110004      part01       no   26      91     165  33.43  483  416   \n",
       "\n",
       "   RESP               TIME  \n",
       "0   408  23/4/2021 8:20:49  \n",
       "1   408  23/4/2021 8:20:49  \n",
       "2   408  23/4/2021 8:20:49  \n",
       "3   408  23/4/2021 8:20:49  \n",
       "4   408  23/4/2021 8:20:49  "
      ]
     },
     "execution_count": 6,
     "metadata": {},
     "output_type": "execute_result"
    }
   ],
   "source": [
    "pre_stress.head()"
   ]
  },
  {
   "cell_type": "code",
   "execution_count": 7,
   "metadata": {},
   "outputs": [
    {
     "data": {
      "text/html": [
       "<div>\n",
       "<style scoped>\n",
       "    .dataframe tbody tr th:only-of-type {\n",
       "        vertical-align: middle;\n",
       "    }\n",
       "\n",
       "    .dataframe tbody tr th {\n",
       "        vertical-align: top;\n",
       "    }\n",
       "\n",
       "    .dataframe thead th {\n",
       "        text-align: right;\n",
       "    }\n",
       "</style>\n",
       "<table border=\"1\" class=\"dataframe\">\n",
       "  <thead>\n",
       "    <tr style=\"text-align: right;\">\n",
       "      <th></th>\n",
       "      <th>level_0</th>\n",
       "      <th>index</th>\n",
       "      <th>PARTICIPANT</th>\n",
       "      <th>CLINICAL</th>\n",
       "      <th>AGE</th>\n",
       "      <th>WEIGHT</th>\n",
       "      <th>HEIGHT</th>\n",
       "      <th>BMI</th>\n",
       "      <th>ECG</th>\n",
       "      <th>EDA</th>\n",
       "      <th>RESP</th>\n",
       "      <th>TIME</th>\n",
       "    </tr>\n",
       "  </thead>\n",
       "  <tbody>\n",
       "    <tr>\n",
       "      <th>0</th>\n",
       "      <td>510000</td>\n",
       "      <td>530000</td>\n",
       "      <td>part01</td>\n",
       "      <td>no</td>\n",
       "      <td>26</td>\n",
       "      <td>91</td>\n",
       "      <td>165</td>\n",
       "      <td>33.43</td>\n",
       "      <td>518</td>\n",
       "      <td>98</td>\n",
       "      <td>473</td>\n",
       "      <td>23/4/2021 8:27:49</td>\n",
       "    </tr>\n",
       "    <tr>\n",
       "      <th>1</th>\n",
       "      <td>510001</td>\n",
       "      <td>530001</td>\n",
       "      <td>part01</td>\n",
       "      <td>no</td>\n",
       "      <td>26</td>\n",
       "      <td>91</td>\n",
       "      <td>165</td>\n",
       "      <td>33.43</td>\n",
       "      <td>519</td>\n",
       "      <td>98</td>\n",
       "      <td>473</td>\n",
       "      <td>23/4/2021 8:27:49</td>\n",
       "    </tr>\n",
       "    <tr>\n",
       "      <th>2</th>\n",
       "      <td>510002</td>\n",
       "      <td>530002</td>\n",
       "      <td>part01</td>\n",
       "      <td>no</td>\n",
       "      <td>26</td>\n",
       "      <td>91</td>\n",
       "      <td>165</td>\n",
       "      <td>33.43</td>\n",
       "      <td>518</td>\n",
       "      <td>101</td>\n",
       "      <td>472</td>\n",
       "      <td>23/4/2021 8:27:49</td>\n",
       "    </tr>\n",
       "    <tr>\n",
       "      <th>3</th>\n",
       "      <td>510003</td>\n",
       "      <td>530003</td>\n",
       "      <td>part01</td>\n",
       "      <td>no</td>\n",
       "      <td>26</td>\n",
       "      <td>91</td>\n",
       "      <td>165</td>\n",
       "      <td>33.43</td>\n",
       "      <td>517</td>\n",
       "      <td>95</td>\n",
       "      <td>472</td>\n",
       "      <td>23/4/2021 8:27:49</td>\n",
       "    </tr>\n",
       "    <tr>\n",
       "      <th>4</th>\n",
       "      <td>510004</td>\n",
       "      <td>530004</td>\n",
       "      <td>part01</td>\n",
       "      <td>no</td>\n",
       "      <td>26</td>\n",
       "      <td>91</td>\n",
       "      <td>165</td>\n",
       "      <td>33.43</td>\n",
       "      <td>516</td>\n",
       "      <td>103</td>\n",
       "      <td>472</td>\n",
       "      <td>23/4/2021 8:27:49</td>\n",
       "    </tr>\n",
       "  </tbody>\n",
       "</table>\n",
       "</div>"
      ],
      "text/plain": [
       "   level_0   index PARTICIPANT CLINICAL  AGE  WEIGHT  HEIGHT    BMI  ECG  EDA  \\\n",
       "0   510000  530000      part01       no   26      91     165  33.43  518   98   \n",
       "1   510001  530001      part01       no   26      91     165  33.43  519   98   \n",
       "2   510002  530002      part01       no   26      91     165  33.43  518  101   \n",
       "3   510003  530003      part01       no   26      91     165  33.43  517   95   \n",
       "4   510004  530004      part01       no   26      91     165  33.43  516  103   \n",
       "\n",
       "   RESP               TIME  \n",
       "0   473  23/4/2021 8:27:49  \n",
       "1   473  23/4/2021 8:27:49  \n",
       "2   472  23/4/2021 8:27:49  \n",
       "3   472  23/4/2021 8:27:49  \n",
       "4   472  23/4/2021 8:27:49  "
      ]
     },
     "execution_count": 7,
     "metadata": {},
     "output_type": "execute_result"
    }
   ],
   "source": [
    "post_stress.head()"
   ]
  },
  {
   "cell_type": "markdown",
   "metadata": {},
   "source": [
    "<h1>ECG"
   ]
  },
  {
   "cell_type": "code",
   "execution_count": 8,
   "metadata": {},
   "outputs": [],
   "source": [
    "ecg_signal_01 = bio_signals.ecg.ecg(signal=pre_stress['ECG'], sampling_rate=1000, show=False)\n",
    "ecg_signal_02 = bio_signals.ecg.ecg(signal=stress['ECG'], sampling_rate=1000, show=False)\n",
    "ecg_signal_03 = bio_signals.ecg.ecg(signal=post_stress['ECG'], sampling_rate=1000, show=False)"
   ]
  },
  {
   "cell_type": "code",
   "execution_count": 24,
   "metadata": {
    "scrolled": true
   },
   "outputs": [
    {
     "data": {
      "text/plain": [
       "0        480\n",
       "1        481\n",
       "2        481\n",
       "3        482\n",
       "4        483\n",
       "        ... \n",
       "59995    515\n",
       "59996    515\n",
       "59997    515\n",
       "59998    515\n",
       "59999    515\n",
       "Name: ECG, Length: 60000, dtype: int64"
      ]
     },
     "execution_count": 24,
     "metadata": {},
     "output_type": "execute_result"
    }
   ],
   "source": [
    "pre_stress['ECG']"
   ]
  },
  {
   "cell_type": "code",
   "execution_count": 25,
   "metadata": {},
   "outputs": [
    {
     "data": {
      "text/plain": [
       "60000"
      ]
     },
     "execution_count": 25,
     "metadata": {},
     "output_type": "execute_result"
    }
   ],
   "source": [
    "len(ecg_signal_01['filtered'])"
   ]
  },
  {
   "cell_type": "markdown",
   "metadata": {},
   "source": [
    "<h1>EDA"
   ]
  },
  {
   "cell_type": "code",
   "execution_count": 26,
   "metadata": {},
   "outputs": [],
   "source": [
    "eda_signal_01 = bio_signals.eda.eda(signal=pre_stress['EDA'], sampling_rate=1000, show=False)\n",
    "eda_signal_02 = bio_signals.eda.eda(signal=pre_stress['EDA'], sampling_rate=1000, show=False)\n",
    "eda_signal_03 = bio_signals.eda.eda(signal=pre_stress['EDA'], sampling_rate=1000, show=False)"
   ]
  },
  {
   "cell_type": "code",
   "execution_count": 27,
   "metadata": {
    "scrolled": true
   },
   "outputs": [
    {
     "data": {
      "text/plain": [
       "0        103\n",
       "1         96\n",
       "2        103\n",
       "3         97\n",
       "4        103\n",
       "        ... \n",
       "99995     91\n",
       "99996     91\n",
       "99997     91\n",
       "99998     91\n",
       "99999     91\n",
       "Name: EDA, Length: 100000, dtype: int64"
      ]
     },
     "execution_count": 27,
     "metadata": {},
     "output_type": "execute_result"
    }
   ],
   "source": [
    "post_stress_eda['EDA']"
   ]
  },
  {
   "cell_type": "code",
   "execution_count": 28,
   "metadata": {},
   "outputs": [
    {
     "data": {
      "text/plain": [
       "60000"
      ]
     },
     "execution_count": 28,
     "metadata": {},
     "output_type": "execute_result"
    }
   ],
   "source": [
    "len(eda_signal_03['filtered'])"
   ]
  },
  {
   "cell_type": "markdown",
   "metadata": {},
   "source": [
    "<h1>RESP"
   ]
  },
  {
   "cell_type": "code",
   "execution_count": 10,
   "metadata": {},
   "outputs": [],
   "source": [
    "resp_signal_01 = bio_signals.resp.resp(signal=pre_stress['RESP'], sampling_rate=1000, show=False)\n",
    "resp_signal_02 = bio_signals.resp.resp(signal=stress['RESP'], sampling_rate=1000, show=False)\n",
    "resp_signal_03 = bio_signals.resp.resp(signal=post_stress['RESP'], sampling_rate=1000, show=False)"
   ]
  },
  {
   "cell_type": "markdown",
   "metadata": {},
   "source": [
    "<h1>Results"
   ]
  },
  {
   "cell_type": "code",
   "execution_count": 11,
   "metadata": {},
   "outputs": [
    {
     "name": "stdout",
     "output_type": "stream",
     "text": [
      " & 66.593 & 78.050 & 63.836\n",
      "\n",
      "\n",
      " & 0.251 & 0.299 & 0.289\n",
      "\n",
      "\n",
      " & 165.590 & 123.905 & 95.751\n",
      "\n",
      "\n"
     ]
    }
   ],
   "source": [
    "print(\" & %.3f & %.3f & %.3f\\n\\n\" %(ecg_signal_01['heart_rate'].mean(), ecg_signal_02['heart_rate'].mean(), ecg_signal_03['heart_rate'].mean()))\n",
    "\n",
    "print(\" & %.3f & %.3f & %.3f\\n\\n\" %(resp_signal_01['resp_rate'].mean(), resp_signal_02['resp_rate'].mean(), resp_signal_03['resp_rate'].mean()))\n",
    "\n",
    "print(\" & %.3f & %.3f & %.3f\\n\\n\" %(eda_signal_01['filtered'].mean(), eda_signal_02['filtered'].mean(), eda_signal_03['filtered'].mean()))"
   ]
  },
  {
   "cell_type": "code",
   "execution_count": null,
   "metadata": {},
   "outputs": [],
   "source": []
  }
 ],
 "metadata": {
  "kernelspec": {
   "display_name": "Python 3",
   "language": "python",
   "name": "python3"
  },
  "language_info": {
   "codemirror_mode": {
    "name": "ipython",
    "version": 3
   },
   "file_extension": ".py",
   "mimetype": "text/x-python",
   "name": "python",
   "nbconvert_exporter": "python",
   "pygments_lexer": "ipython3",
   "version": "3.8.5"
  }
 },
 "nbformat": 4,
 "nbformat_minor": 4
}
