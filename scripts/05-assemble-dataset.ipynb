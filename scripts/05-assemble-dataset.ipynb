{
 "cells": [
  {
   "cell_type": "markdown",
   "metadata": {},
   "source": [
    "<H1> Assembling Dataset </H1>"
   ]
  },
  {
   "cell_type": "markdown",
   "metadata": {},
   "source": [
    "<H3>Libraries:"
   ]
  },
  {
   "cell_type": "code",
   "execution_count": 1,
   "metadata": {},
   "outputs": [],
   "source": [
    "import os\n",
    "import glob\n",
    "import numpy as np\n",
    "import pandas as pd\n",
    "from biosppy import signals as bio_signals"
   ]
  },
  {
   "cell_type": "markdown",
   "metadata": {},
   "source": [
    "<H3>Variables:"
   ]
  },
  {
   "cell_type": "markdown",
   "metadata": {},
   "source": [
    "General Variables"
   ]
  },
  {
   "cell_type": "code",
   "execution_count": 2,
   "metadata": {},
   "outputs": [],
   "source": [
    "generate_classes = True\n",
    "classification = 'binary'\n",
    "#classification = 'selected'\n",
    "\n",
    "project = 'athena-i'\n",
    "\n",
    "default_path = \"%s/%s/dataset/raw/%s/*.csv*\" % (os.getenv('HOME'), project, classification)\n",
    "dataset_path = \"%s/%s/dataset/%s/\" % (os.getenv('HOME'), project, classification)\n",
    "\n",
    "classes = [\"normal\", \"stress\"]"
   ]
  },
  {
   "cell_type": "markdown",
   "metadata": {},
   "source": [
    "Dataframes"
   ]
  },
  {
   "cell_type": "code",
   "execution_count": 3,
   "metadata": {},
   "outputs": [],
   "source": [
    "df = pd.DataFrame()\n",
    "df_final = pd.DataFrame()\n",
    "df_features = pd.DataFrame()\n",
    "df_ecg = pd.DataFrame()\n",
    "df_eda = pd.DataFrame()\n",
    "df_resp = pd.DataFrame()\n",
    "df_class = pd.DataFrame()"
   ]
  },
  {
   "cell_type": "markdown",
   "metadata": {},
   "source": [
    "Load data"
   ]
  },
  {
   "cell_type": "code",
   "execution_count": 4,
   "metadata": {},
   "outputs": [
    {
     "name": "stdout",
     "output_type": "stream",
     "text": [
      "180000 --- 180000 --- 180000 --- 180000 --- 180000\n",
      "360000 --- 360000 --- 360000 --- 360000 --- 360000\n",
      "540000 --- 540000 --- 540000 --- 540000 --- 540000\n",
      "720000 --- 720000 --- 720000 --- 720000 --- 720000\n",
      "900000 --- 900000 --- 900000 --- 900000 --- 900000\n",
      "1080000 --- 1080000 --- 1080000 --- 1080000 --- 1080000\n",
      "1260000 --- 1260000 --- 1260000 --- 1260000 --- 1260000\n",
      "1440000 --- 1440000 --- 1440000 --- 1440000 --- 1440000\n",
      "1620000 --- 1620000 --- 1620000 --- 1620000 --- 1620000\n",
      "1800000 --- 1800000 --- 1800000 --- 1800000 --- 1800000\n"
     ]
    }
   ],
   "source": [
    "files = glob.glob(default_path)\n",
    "for file in files:\n",
    "    new_df = pd.read_csv(file, delimiter=';')\n",
    "    ecg = bio_signals.ecg.ecg(signal=new_df['ECG'], sampling_rate=1000, show=False)\n",
    "    eda = bio_signals.eda.eda(signal=new_df['EDA'], sampling_rate=1000, show=False)\n",
    "    resp = bio_signals.resp.resp(signal=new_df['RESP'], sampling_rate=1000, show=False)\n",
    "    \n",
    "    ecg = pd.DataFrame(ecg['filtered'])\n",
    "    df_ecg = df_ecg.append(ecg[90000:150000])\n",
    "    df_ecg = df_ecg.append(ecg[300000:360000])\n",
    "    if classification != 'binary':\n",
    "        df_ecg = df_ecg.append(ecg[510000:570000])\n",
    "    \n",
    "    eda = pd.DataFrame(eda['filtered'])\n",
    "    df_eda = df_eda.append(eda[220000:280000])\n",
    "    df_eda = df_eda.append(eda[370000:430000])\n",
    "    if classification != 'binary':\n",
    "        df_eda = df_eda.append(eda[520000:580000])\n",
    "    \n",
    "    resp = pd.DataFrame(resp['filtered'])\n",
    "    df_resp = df_resp.append(resp[90000:150000])\n",
    "    df_resp = df_resp.append(resp[300000:360000])\n",
    "    if classification != 'binary':\n",
    "        df_resp = df_resp.append(resp[510000:570000])\n",
    "    \n",
    "    new_df = new_df.drop(columns=['ECG', 'EDA', 'RESP', 'TIME'])\n",
    "    df_features = df_features.append(new_df[90000:150000].reset_index())\n",
    "    df_features = df_features.append(new_df[300000:360000].reset_index())\n",
    "    if classification != 'binary':\n",
    "        df_features = df_features.append(new_df[510000:570000].reset_index())\n",
    "    \n",
    "    if generate_classes:\n",
    "        for x in range(60000):\n",
    "            df_class = df_class.append([1])\n",
    "\n",
    "        for x in range(60000):\n",
    "            df_class = df_class.append([2])\n",
    "\n",
    "        if classification != 'binary':\n",
    "            for x in range(60000):\n",
    "                df_class = df_class.append([3])\n",
    "        \n",
    "    print(\"%s --- %s --- %s --- %s --- %s\" % (len(df_ecg), len(df_eda), len(df_resp), len(df_features), len(df_class)))"
   ]
  },
  {
   "cell_type": "markdown",
   "metadata": {},
   "source": [
    "Export CSVs"
   ]
  },
  {
   "cell_type": "code",
   "execution_count": 5,
   "metadata": {},
   "outputs": [],
   "source": [
    "df_ecg.to_csv(\"%secg\" % dataset_path, sep=';',header=True, index=False)\n",
    "df_eda.to_csv(\"%seda\" % dataset_path, sep=';',header=True, index=False)\n",
    "df_resp.to_csv(\"%srsp\" % dataset_path, sep=';',header=True, index=False)\n",
    "df_features.to_csv(\"%sfeatures\" % dataset_path, sep=';',header=True, index=False)"
   ]
  },
  {
   "cell_type": "code",
   "execution_count": 6,
   "metadata": {},
   "outputs": [],
   "source": [
    "df_class.to_csv(\"%strain-y\" % dataset_path, sep=';',header=True, index=False)"
   ]
  },
  {
   "cell_type": "markdown",
   "metadata": {},
   "source": [
    "Assemble dataset"
   ]
  },
  {
   "cell_type": "code",
   "execution_count": 7,
   "metadata": {},
   "outputs": [
    {
     "name": "stdout",
     "output_type": "stream",
     "text": [
      "End: 1800000 --- 1800000 --- 1800000 --- 1800000 --- 1800000\n",
      "dataframe created\n",
      "ecg: ok\n",
      "eda: ok\n",
      "resp: created\n",
      "features: ok\n"
     ]
    }
   ],
   "source": [
    "df_ecg = df_ecg.reset_index()\n",
    "df_eda = df_eda.reset_index()\n",
    "df_resp = df_resp.reset_index()\n",
    "df_features = df_features.reset_index()\n",
    "print(\"End: %s --- %s --- %s --- %s --- %s\" % (len(df_ecg), len(df_eda), len(df_resp), len(df_features), len(df_class)))\n",
    "df = pd.DataFrame()\n",
    "print(\"dataframe created\")\n",
    "df = pd.concat([df, df_ecg], axis=1)\n",
    "print(\"ecg: ok\")\n",
    "df = pd.concat([df, df_eda], axis=1)\n",
    "print(\"eda: ok\")\n",
    "df = pd.concat([df, df_resp], axis=1)\n",
    "print(\"resp: created\")\n",
    "df = pd.concat([df, df_features], axis=1)\n",
    "print(\"features: ok\")"
   ]
  },
  {
   "cell_type": "markdown",
   "metadata": {},
   "source": [
    "Export CSVs"
   ]
  },
  {
   "cell_type": "code",
   "execution_count": 8,
   "metadata": {},
   "outputs": [],
   "source": [
    "df.to_csv(\"%strain-x-index\" % dataset_path, sep=';',header=True, index=False)"
   ]
  },
  {
   "cell_type": "code",
   "execution_count": 9,
   "metadata": {},
   "outputs": [],
   "source": [
    "new_df = df.drop(columns=['index','level_0'])\n",
    "new_df.to_csv(\"%strain-x\" % dataset_path, sep=';',header=True, index=False)"
   ]
  }
 ],
 "metadata": {
  "kernelspec": {
   "display_name": "Python 3",
   "language": "python",
   "name": "python3"
  },
  "language_info": {
   "codemirror_mode": {
    "name": "ipython",
    "version": 3
   },
   "file_extension": ".py",
   "mimetype": "text/x-python",
   "name": "python",
   "nbconvert_exporter": "python",
   "pygments_lexer": "ipython3",
   "version": "3.8.10"
  }
 },
 "nbformat": 4,
 "nbformat_minor": 4
}
