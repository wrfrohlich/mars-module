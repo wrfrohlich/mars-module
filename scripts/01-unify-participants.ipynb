{
 "cells": [
  {
   "cell_type": "code",
   "execution_count": 1,
   "metadata": {},
   "outputs": [],
   "source": [
    "import os.path\n",
    "import pandas as pd"
   ]
  },
  {
   "cell_type": "code",
   "execution_count": 2,
   "metadata": {},
   "outputs": [],
   "source": [
    "participants_name = \"Lucas_Paula\"\n",
    "date = \"1-5-2021\"\n",
    "hour_inf = 19\n",
    "hour_sup = 19\n",
    "\n",
    "minute_inf_0 = 14\n",
    "minute_sup_0 = 26\n",
    "\n",
    "minute_inf_1 = 0\n",
    "minute_sup_1 = 2\n",
    "\n",
    "default_path = \"C:\\\\Users\\\\wrfro\\\\raspbit_data\\\\\"\n",
    "participant_file = default_path + participants_name + \".csv\""
   ]
  },
  {
   "cell_type": "code",
   "execution_count": 3,
   "metadata": {},
   "outputs": [],
   "source": [
    "hour_ref = hour_inf\n",
    "for hour in range(hour_inf,hour_sup+1):\n",
    "    if hour_ref == hour:\n",
    "        minute_inf = minute_inf_0\n",
    "        minute_sup = minute_sup_0\n",
    "    else:\n",
    "        minute_inf = minute_inf_1\n",
    "        minute_sup = minute_sup_1\n",
    "        \n",
    "    for minute in range(minute_inf,minute_sup+1):\n",
    "        file = default_path + \"raw\\\\\" + participants_name + \"_\" + str(date) + \"_\" + str(hour) + \"_\" + str(minute) + \".txt\"\n",
    "        data_processing = pd.read_csv(file, delimiter=';')\n",
    "        \n",
    "        if not (os.path.isfile(participant_file)):\n",
    "            data_processing.to_csv(participant_file, mode='w', index=None, header=True, sep=';', encoding='utf-8')\n",
    "        else:\n",
    "            data_processing.to_csv(participant_file, mode='a', index=None, header=False, sep=';', encoding='utf-8')"
   ]
  }
 ],
 "metadata": {
  "kernelspec": {
   "display_name": "Python 3",
   "language": "python",
   "name": "python3"
  },
  "language_info": {
   "codemirror_mode": {
    "name": "ipython",
    "version": 3
   },
   "file_extension": ".py",
   "mimetype": "text/x-python",
   "name": "python",
   "nbconvert_exporter": "python",
   "pygments_lexer": "ipython3",
   "version": "3.8.5"
  }
 },
 "nbformat": 4,
 "nbformat_minor": 4
}
