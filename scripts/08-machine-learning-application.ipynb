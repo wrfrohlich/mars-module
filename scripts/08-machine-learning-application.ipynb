{
 "cells": [
  {
   "cell_type": "markdown",
   "metadata": {},
   "source": [
    "<H1> Machine Learning Application </H1>"
   ]
  },
  {
   "cell_type": "markdown",
   "metadata": {},
   "source": [
    "<H3>Libraries:"
   ]
  },
  {
   "cell_type": "code",
   "execution_count": 1,
   "metadata": {},
   "outputs": [],
   "source": [
    "import os\n",
    "import sys\n",
    "import numpy as np\n",
    "import pandas as pd\n",
    "import pickle as pic\n",
    "import seaborn as sns\n",
    "import matplotlib.pyplot as plt\n",
    "\n",
    "import sklearn.metrics as metrics\n",
    "from sklearn.metrics import accuracy_score\n",
    "from sklearn.metrics import confusion_matrix\n",
    "\n",
    "from sklearn.svm import SVC\n",
    "from sklearn.naive_bayes import GaussianNB\n",
    "from sklearn.tree import DecisionTreeClassifier\n",
    "from sklearn.ensemble import AdaBoostClassifier\n",
    "from sklearn.neural_network import MLPClassifier\n",
    "from sklearn.neighbors import KNeighborsClassifier\n",
    "from sklearn.ensemble import RandomForestClassifier\n",
    "from sklearn.gaussian_process import GaussianProcessClassifier\n",
    "\n",
    "from sklearn.model_selection import train_test_split, cross_val_score, KFold\n",
    "\n",
    "import warnings\n",
    "warnings.filterwarnings('ignore')"
   ]
  },
  {
   "cell_type": "markdown",
   "metadata": {},
   "source": [
    "<h3>Variables:"
   ]
  },
  {
   "cell_type": "code",
   "execution_count": 2,
   "metadata": {},
   "outputs": [],
   "source": [
    "#classification = 'binary'\n",
    "#classification = 'selected'\n",
    "classification = 'all'\n",
    "#classification = 'clinical'\n",
    "#classification = 'non-clinical'\n",
    "\n",
    "#train_file = 'train-'\n",
    "train_file = 'wind-train-'\n",
    "#train_file = 'feature-train-'\n",
    "\n",
    "project = 'athena-i'\n",
    "metric_file = 'metrics.csv'\n",
    "\n",
    "dataset_path = \"%s/%s/dataset/%s/\" % (os.getenv('HOME'), project, classification)\n",
    "result_path = \"%s/%s/results-ii/%s/\" % (os.getenv('HOME'), project, classification)\n",
    "\n",
    "if classification == 'binary':\n",
    "    classes = [\"normal\", \"stress\"]\n",
    "    labels = [1, 2]\n",
    "else:\n",
    "    classes = [\"pre-stress\", \"stress\", \"post-stress\"]\n",
    "    labels = [1, 2, 3]"
   ]
  },
  {
   "cell_type": "markdown",
   "metadata": {},
   "source": [
    "<h3>Methods:"
   ]
  },
  {
   "cell_type": "code",
   "execution_count": 20,
   "metadata": {},
   "outputs": [],
   "source": [
    "def load_dataset(path):\n",
    "    x_train = pd.read_csv('%s%sx' % (path, train_file), delimiter=';')\n",
    "    x_train = x_train.drop(columns=['AGE','WEIGHT','HEIGHT','BMI','PARTICIPANT','CLINICAL'])\n",
    "    x_train = x_train.to_numpy()\n",
    "\n",
    "    y_train = pd.read_csv('%s%sy' % (path, train_file), delimiter=';')\n",
    "    y_train = y_train.to_numpy()\n",
    "\n",
    "    x_train, x_test, y_train, y_test = train_test_split(x_train, y_train, test_size = 0.33, random_state = 1)    \n",
    "\n",
    "    return(x_train, y_train, x_test, y_test)"
   ]
  },
  {
   "cell_type": "code",
   "execution_count": 21,
   "metadata": {},
   "outputs": [],
   "source": [
    "def get_metrics(y_test, y_predicted):\n",
    "    data_metrics = []\n",
    "    accuracy = metrics.accuracy_score(y_test, y_predicted)\n",
    "    f1 = metrics.f1_score(y_test, y_predicted, average='weighted', pos_label=1)\n",
    "    precision = metrics.precision_score(y_test, y_predicted, average='weighted', pos_label=1)\n",
    "    recall = metrics.recall_score(y_test, y_predicted, average='weighted', pos_label=1)\n",
    "    data_metrics.append(accuracy)\n",
    "    data_metrics.append(f1)\n",
    "    data_metrics.append(precision)\n",
    "    data_metrics.append(recall)\n",
    "    print(\"Accuracy: %.5f\\tPrecision: %.5f\\n\" % (accuracy, precision))\n",
    "    print(\"Recall: %.5f\\t\\tF1: %.5f\" % (recall, f1))\n",
    "    \n",
    "    return data_metrics"
   ]
  },
  {
   "cell_type": "code",
   "execution_count": 22,
   "metadata": {},
   "outputs": [],
   "source": [
    "def show_confusion_matrix(y_test, y_predicted, classifier, labels):   \n",
    "    cm = confusion_matrix(y_test, y_predicted)\n",
    "    cmn = cm.astype('float') / cm.sum(axis=1)[:, np.newaxis]\n",
    "    fig, ax = plt.subplots(figsize=(8,6))\n",
    "    sns.heatmap(cmn*100, \n",
    "                cmap='coolwarm',\n",
    "                linecolor='white',\n",
    "                linewidths=0.8,\n",
    "                annot=True, \n",
    "                fmt='.3f', \n",
    "                xticklabels=classes, \n",
    "                yticklabels=classes)\n",
    "    plt.xlabel('Predicted')\n",
    "    plt.ylabel('True')\n",
    "    plt.savefig('%s%s-confusion-matrix-percent.png' % (result_path, classifier))\n",
    "    \n",
    "    \n",
    "    \n",
    "    cm = confusion_matrix(y_test, y_predicted, labels)\n",
    "    fig, ax = plt.subplots(figsize=(8,6))\n",
    "    sns.heatmap(cm,\n",
    "                cmap='Greys',\n",
    "                annot=True, \n",
    "                fmt='.0f', \n",
    "                xticklabels=classes, \n",
    "                yticklabels=classes)\n",
    "    plt.xlabel('Predicted')\n",
    "    plt.ylabel('True')\n",
    "    plt.savefig('%s%s-confusion-matrix.png' % (result_path, classifier))"
   ]
  },
  {
   "cell_type": "code",
   "execution_count": 23,
   "metadata": {},
   "outputs": [],
   "source": [
    "def class_accuracy(y_test, y_predicted, classifier): \n",
    "    cm = confusion_matrix(y_test, y_predicted)\n",
    "    cmn = cm.astype('float') / cm.sum(axis=1)[:, np.newaxis]\n",
    "    f = open('%s%s-accuracy-per-class.txt' % (result_path, classifier), 'a')\n",
    "    f.write(\"Class Accuracy\\n\")\n",
    "    plt.show(block=False)\n",
    "    index_acurácia = (cmn.diagonal())*100\n",
    "    print('\\nClass Accuracy')\n",
    "    for i in range(len(index_acurácia)): \n",
    "        print('Class %s: %.2f' % (classes[i], index_acurácia[i]), '%')\n",
    "        f.write(str('%.2f' %(index_acurácia[i])))\n",
    "        f.write(\"\\n\")\n",
    "    f.write(\"\\n\")\n",
    "    f.close()"
   ]
  },
  {
   "cell_type": "code",
   "execution_count": 24,
   "metadata": {},
   "outputs": [],
   "source": [
    "def weighted_accuracy(y_test, y_predicted, classifier): \n",
    "    valor = 0;\n",
    "    cm = confusion_matrix(y_test, y_predicted)\n",
    "    cmn = cm.astype('float') / cm.sum(axis=1)[:, np.newaxis]\n",
    "    # Imprime a acurácia de cada classe\n",
    "    f = open('%s%s-weighted-accuracy.txt' % (result_path, classifier), 'a')\n",
    "    plt.show(block=False)\n",
    "    index_acurácia = (cmn.diagonal())*100\n",
    "    for i in range(len(index_acurácia)): \n",
    "        valor = valor + index_acurácia[i];\n",
    "    valor = valor/len(index_acurácia);\n",
    "    print('\\nWeighted accuracy: %.2f' %(valor), '%')\n",
    "    f.write(str('%.2f' %(valor)))\n",
    "    f.write(\"\\n\")\n",
    "    f.close()"
   ]
  },
  {
   "cell_type": "code",
   "execution_count": 25,
   "metadata": {},
   "outputs": [],
   "source": [
    "def final_accuracy(y_test, y_predicted, classifier):\n",
    "    score = accuracy_score(y_test, y_predicted)\n",
    "    print('\\nGeneral Accuracy: %.2f' % (score*100),'%')\n",
    "    f = open('%s%s-general-accuracy.txt' % (result_path, classifier), 'a')\n",
    "    f.write(\"Final accuracy: \")\n",
    "    f.write(str('%.2f' %(score*100)))\n",
    "    f.write(\"\\n\")"
   ]
  },
  {
   "cell_type": "code",
   "execution_count": 26,
   "metadata": {},
   "outputs": [],
   "source": [
    "def cross_validation(model, classifier):\n",
    "    print('\\nCross Validation')\n",
    "    SEED = 42\n",
    "\n",
    "    np.random.seed(SEED)\n",
    "    cv = KFold(n_splits = 5, shuffle = True)\n",
    "\n",
    "    results = cross_val_score(model, x_train, \n",
    "                              y_train, cv = cv, scoring = 'accuracy')\n",
    "\n",
    "    mean = results.mean()\n",
    "    dv = results.std()\n",
    "    \n",
    "    string_out = \"Average Accuracy: %.3f\\n\" % (mean*100)\n",
    "    string_out += \"Accuracy range: %.3f ~ %.3f\\n\\n\" % ((mean - 2*dv)*100, (mean + 2*dv)*100)\n",
    "    \n",
    "    sys.stdout.write(string_out)\n",
    "\n",
    "    f = open('%s%s-cross-validation.txt' % (result_path, classifier), 'a')\n",
    "    f.write(string_out)"
   ]
  },
  {
   "cell_type": "code",
   "execution_count": 27,
   "metadata": {},
   "outputs": [],
   "source": [
    "def export_model(model, classifier):\n",
    "    try:\n",
    "        pic.dump(model, open(\"%s%s.sav\" % (result_path, classifier), 'wb'))\n",
    "        sys.stdout.write(\"Export: Success\\n\\n\")\n",
    "    except TypeError:\n",
    "        sys.stdout.write(\"Export: Fail\\n\\n\")\n",
    "        pass"
   ]
  },
  {
   "cell_type": "code",
   "execution_count": 28,
   "metadata": {},
   "outputs": [],
   "source": [
    "def main(model, classifier):\n",
    "    model.fit(x_train,y_train)\n",
    "    export_model(model, classifier)\n",
    "    y_predicted=model.predict(x_test)\n",
    "    data_metrics[classifier] = get_metrics(y_test, y_predicted)\n",
    "    final_accuracy(y_test, y_predicted, classifier)\n",
    "    weighted_accuracy(y_test, y_predicted, classifier)\n",
    "    class_accuracy(y_test, y_predicted, classifier)\n",
    "    show_confusion_matrix(y_test, y_predicted, classifier, labels)\n",
    "    cross_validation(model, classifier)"
   ]
  },
  {
   "cell_type": "markdown",
   "metadata": {},
   "source": [
    "<H3>Call Methods:</H3>"
   ]
  },
  {
   "cell_type": "markdown",
   "metadata": {},
   "source": [
    "Load Data"
   ]
  },
  {
   "cell_type": "code",
   "execution_count": 29,
   "metadata": {},
   "outputs": [],
   "source": [
    "x_train, y_train, x_test, y_test = load_dataset(dataset_path)"
   ]
  },
  {
   "cell_type": "code",
   "execution_count": 30,
   "metadata": {},
   "outputs": [],
   "source": [
    "data_metrics = pd.DataFrame(index=['Accuracy','F1','Precision','Recall'])"
   ]
  },
  {
   "cell_type": "markdown",
   "metadata": {},
   "source": [
    "<H3>Machine Learning Application:</H3>"
   ]
  },
  {
   "cell_type": "markdown",
   "metadata": {},
   "source": [
    "Decision Tree Classifier"
   ]
  },
  {
   "cell_type": "code",
   "execution_count": 14,
   "metadata": {},
   "outputs": [
    {
     "name": "stdout",
     "output_type": "stream",
     "text": [
      "Export: Success\n",
      "\n",
      "Accuracy: 0.98781\tPrecision: 0.98781\n",
      "\n",
      "Recall: 0.98781\t\tF1: 0.98781\n",
      "\n",
      "General Accuracy: 98.78 %\n",
      "\n",
      "Weighted accuracy: 98.78 %\n",
      "\n",
      "Class Accuracy\n",
      "Class pre-stress: 98.64 %\n",
      "Class stress: 98.66 %\n",
      "Class post-stress: 99.04 %\n",
      "\n",
      "Cross Validation\n",
      "Average Accuracy: 98.242\n",
      "Accuracy range: 98.218 ~ 98.265\n",
      "\n"
     ]
    },
    {
     "data": {
      "image/png": "[encoded data removed]",
      "text/plain": [
       "<Figure size 576x432 with 2 Axes>"
      ]
     },
     "metadata": {
      "needs_background": "light"
     },
     "output_type": "display_data"
    },
    {
     "data": {
      "image/png": "[encoded data removed]",
      "text/plain": [
       "<Figure size 576x432 with 2 Axes>"
      ]
     },
     "metadata": {
      "needs_background": "light"
     },
     "output_type": "display_data"
    }
   ],
   "source": [
    "classifier = 'decision-tree-classifier'\n",
    "model=DecisionTreeClassifier()\n",
    "main(model, classifier)"
   ]
  },
  {
   "cell_type": "markdown",
   "metadata": {},
   "source": [
    "KNN (KNeighbors Classifier)"
   ]
  },
  {
   "cell_type": "code",
   "execution_count": 15,
   "metadata": {},
   "outputs": [
    {
     "name": "stdout",
     "output_type": "stream",
     "text": [
      "Export: Success\n",
      "\n",
      "Accuracy: 0.93810\tPrecision: 0.93815\n",
      "\n",
      "Recall: 0.93810\t\tF1: 0.93812\n",
      "\n",
      "General Accuracy: 93.81 %\n",
      "\n",
      "Weighted accuracy: 93.81 %\n",
      "\n",
      "Class Accuracy\n",
      "Class pre-stress: 93.32 %\n",
      "Class stress: 93.64 %\n",
      "Class post-stress: 94.47 %\n",
      "\n",
      "Cross Validation\n",
      "Average Accuracy: 93.111\n",
      "Accuracy range: 93.092 ~ 93.130\n",
      "\n"
     ]
    },
    {
     "data": {
      "image/png": "[encoded data removed]",
      "text/plain": [
       "<Figure size 576x432 with 2 Axes>"
      ]
     },
     "metadata": {
      "needs_background": "light"
     },
     "output_type": "display_data"
    },
    {
     "data": {
      "image/png": "[encoded data removed]",
      "text/plain": [
       "<Figure size 576x432 with 2 Axes>"
      ]
     },
     "metadata": {
      "needs_background": "light"
     },
     "output_type": "display_data"
    }
   ],
   "source": [
    "classifier = 'kneighbors-classifier'\n",
    "model=KNeighborsClassifier()\n",
    "main(model, classifier)"
   ]
  },
  {
   "cell_type": "markdown",
   "metadata": {},
   "source": [
    "Random Forest Classifier"
   ]
  },
  {
   "cell_type": "code",
   "execution_count": null,
   "metadata": {
    "scrolled": false
   },
   "outputs": [],
   "source": [
    "classifier = 'random-forest-classifier'\n",
    "model=RandomForestClassifier()\n",
    "main(model, classifier)"
   ]
  },
  {
   "cell_type": "markdown",
   "metadata": {},
   "source": [
    "AdaBoostClassifier"
   ]
  },
  {
   "cell_type": "code",
   "execution_count": null,
   "metadata": {
    "scrolled": false
   },
   "outputs": [],
   "source": [
    "classifier = 'ada-boost-classifier'\n",
    "model=AdaBoostClassifier()\n",
    "main(model, classifier)"
   ]
  },
  {
   "cell_type": "markdown",
   "metadata": {},
   "source": [
    "MLPClassifier"
   ]
  },
  {
   "cell_type": "code",
   "execution_count": null,
   "metadata": {
    "scrolled": false
   },
   "outputs": [],
   "source": [
    "classifier = 'mlp-classifier'\n",
    "model=MLPClassifier()\n",
    "main(model, classifier)"
   ]
  },
  {
   "cell_type": "markdown",
   "metadata": {},
   "source": [
    "SVC"
   ]
  },
  {
   "cell_type": "code",
   "execution_count": null,
   "metadata": {
    "scrolled": false
   },
   "outputs": [],
   "source": [
    "classifier = 'svc'\n",
    "model=SVC()\n",
    "main(model, classifier)"
   ]
  },
  {
   "cell_type": "markdown",
   "metadata": {},
   "source": [
    "GaussianProcessClassifier"
   ]
  },
  {
   "cell_type": "code",
   "execution_count": null,
   "metadata": {
    "scrolled": false
   },
   "outputs": [],
   "source": [
    "classifier = 'gaussian-process-classifier'\n",
    "model=GaussianProcessClassifier()\n",
    "main(model, classifier)"
   ]
  },
  {
   "cell_type": "markdown",
   "metadata": {},
   "source": [
    "GaussianNB"
   ]
  },
  {
   "cell_type": "code",
   "execution_count": null,
   "metadata": {
    "scrolled": false
   },
   "outputs": [],
   "source": [
    "classifier = 'gaussian-naive-bayes'\n",
    "model=GaussianNB()\n",
    "main(model, classifier)"
   ]
  },
  {
   "cell_type": "code",
   "execution_count": null,
   "metadata": {},
   "outputs": [],
   "source": [
    "data_metrics.to_csv('%s%s' % (result_path, metric_file), index=True, header=True, sep=';', encoding='utf-8')"
   ]
  }
 ],
 "metadata": {
  "kernelspec": {
   "display_name": "Python 3",
   "language": "python",
   "name": "python3"
  },
  "language_info": {
   "codemirror_mode": {
    "name": "ipython",
    "version": 3
   },
   "file_extension": ".py",
   "mimetype": "text/x-python",
   "name": "python",
   "nbconvert_exporter": "python",
   "pygments_lexer": "ipython3",
   "version": "3.8.10"
  }
 },
 "nbformat": 4,
 "nbformat_minor": 2
}
