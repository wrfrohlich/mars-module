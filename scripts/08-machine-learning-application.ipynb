{
 "cells": [
  {
   "cell_type": "markdown",
   "metadata": {},
   "source": [
    "<H1> Machine Learning Application </H1>"
   ]
  },
  {
   "cell_type": "markdown",
   "metadata": {},
   "source": [
    "<H3>Libraries:"
   ]
  },
  {
   "cell_type": "code",
   "execution_count": 1,
   "metadata": {},
   "outputs": [],
   "source": [
    "import os\n",
    "import numpy as np\n",
    "import pandas as pd\n",
    "import seaborn as sns\n",
    "import matplotlib.pyplot as plt\n",
    "\n",
    "import sklearn.metrics as metrics\n",
    "from sklearn.metrics import accuracy_score\n",
    "from sklearn.metrics import confusion_matrix\n",
    "from sklearn.tree import DecisionTreeClassifier\n",
    "from sklearn.neighbors import KNeighborsClassifier\n",
    "from sklearn.ensemble import RandomForestClassifier\n",
    "from sklearn.model_selection import train_test_split\n",
    "\n",
    "import warnings\n",
    "warnings.filterwarnings('ignore')"
   ]
  },
  {
   "cell_type": "markdown",
   "metadata": {},
   "source": [
    "<h3>Variables:"
   ]
  },
  {
   "cell_type": "code",
   "execution_count": 2,
   "metadata": {},
   "outputs": [],
   "source": [
    "classification = 'binary'\n",
    "#classification = 'selected'\n",
    "\n",
    "#train_file = 'train-'\n",
    "train_file = 'wind-train-'\n",
    "#train_file = 'feature-train-'\n",
    "\n",
    "project = 'athena-i'\n",
    "metric_file = 'metrics.csv'\n",
    "\n",
    "dataset_path = \"%s/%s/dataset/%s/\" % (os.getenv('HOME'), project, classification)\n",
    "result_path = \"%s/%s/results/%s/\" % (os.getenv('HOME'), project, classification)\n",
    "\n",
    "if classification == 'binary':\n",
    "    classes = [\"normal\", \"stress\"]\n",
    "    labels = [1, 2]\n",
    "else:\n",
    "    classes = [\"pre-stress\", \"stress\", \"post-stress\"]\n",
    "    labels = [1, 2, 3]"
   ]
  },
  {
   "cell_type": "markdown",
   "metadata": {},
   "source": [
    "<h3>Methods:"
   ]
  },
  {
   "cell_type": "code",
   "execution_count": 3,
   "metadata": {},
   "outputs": [],
   "source": [
    "def load_dataset(path):\n",
    "    x_train = pd.read_csv('%s%sx' % (path, train_file), delimiter=';')\n",
    "    x_train = x_train.drop(columns=['PARTICIPANT','CLINICAL'])\n",
    "    x_train = x_train.to_numpy()\n",
    "\n",
    "    y_train = pd.read_csv('%s%sy' % (path, train_file), delimiter=';')\n",
    "    y_train = y_train.to_numpy()\n",
    "\n",
    "    x_train, x_test, y_train, y_test = train_test_split(x_train, y_train, test_size = 0.33, random_state = 1)\n",
    "\n",
    "    return(x_train, y_train, x_test, y_test)"
   ]
  },
  {
   "cell_type": "code",
   "execution_count": 4,
   "metadata": {},
   "outputs": [],
   "source": [
    "def get_metrics(y_test, y_predicted):\n",
    "    data_metrics = []\n",
    "    accuracy = metrics.accuracy_score(y_test, y_predicted)\n",
    "    f1 = metrics.f1_score(y_test, y_predicted, average='weighted', pos_label=1)\n",
    "    precision = metrics.precision_score(y_test, y_predicted, average='weighted', pos_label=1)\n",
    "    recall = metrics.recall_score(y_test, y_predicted, average='weighted', pos_label=1)\n",
    "    data_metrics.append(accuracy)\n",
    "    data_metrics.append(f1)\n",
    "    data_metrics.append(precision)\n",
    "    data_metrics.append(recall)\n",
    "    print(\"Accuracy: %.5f\\tPrecision: %.5f\\n\" % (accuracy, precision))\n",
    "    print(\"Recall: %.5f\\t\\tF1: %.5f\" % (recall, f1))\n",
    "    \n",
    "    return data_metrics"
   ]
  },
  {
   "cell_type": "code",
   "execution_count": 5,
   "metadata": {},
   "outputs": [],
   "source": [
    "def show_confusion_matrix(y_test, y_predicted, classifier, labels):   \n",
    "    cm = confusion_matrix(y_test, y_predicted)\n",
    "    cmn = cm.astype('float') / cm.sum(axis=1)[:, np.newaxis]\n",
    "    fig, ax = plt.subplots(figsize=(8,6))\n",
    "    sns.heatmap(cmn*100, \n",
    "                cmap='coolwarm',\n",
    "                linecolor='white',\n",
    "                linewidths=0.8,\n",
    "                annot=True, \n",
    "                fmt='.3f', \n",
    "                xticklabels=classes, \n",
    "                yticklabels=classes)\n",
    "    plt.xlabel('Predicted')\n",
    "    plt.ylabel('True')\n",
    "    plt.savefig('%s%s-confusion-matrix-percent.png' % (result_path, classifier))\n",
    "    \n",
    "    \n",
    "    \n",
    "    cm = confusion_matrix(y_test, y_predicted, labels)\n",
    "    fig, ax = plt.subplots(figsize=(8,6))\n",
    "    sns.heatmap(cm,\n",
    "                cmap='Greys',\n",
    "                annot=True, \n",
    "                fmt='.0f', \n",
    "                xticklabels=classes, \n",
    "                yticklabels=classes)\n",
    "    plt.xlabel('Predicted')\n",
    "    plt.ylabel('True')\n",
    "    plt.savefig('%s%s-confusion-matrix.png' % (result_path, classifier))"
   ]
  },
  {
   "cell_type": "code",
   "execution_count": 6,
   "metadata": {},
   "outputs": [],
   "source": [
    "def class_accuracy(y_test, y_predicted, classifier): \n",
    "    cm = confusion_matrix(y_test, y_predicted)\n",
    "    cmn = cm.astype('float') / cm.sum(axis=1)[:, np.newaxis]\n",
    "    f = open('%s%s-accuracy-per-class.txt' % (result_path, classifier), 'a')\n",
    "    f.write(\"Class Accuracy\\n\")\n",
    "    plt.show(block=False)\n",
    "    index_acurácia = (cmn.diagonal())*100\n",
    "    print('\\nClass Accuracy')\n",
    "    for i in range(len(index_acurácia)): \n",
    "        print('Class %s: %.2f' % (classes[i], index_acurácia[i]), '%')\n",
    "        f.write(str('%.2f' %(index_acurácia[i])))\n",
    "        f.write(\"\\n\")\n",
    "    f.write(\"\\n\")\n",
    "    f.close()"
   ]
  },
  {
   "cell_type": "code",
   "execution_count": 7,
   "metadata": {},
   "outputs": [],
   "source": [
    "def weighted_accuracy(y_test, y_predicted, classifier): \n",
    "    valor = 0;\n",
    "    cm = confusion_matrix(y_test, y_predicted)\n",
    "    cmn = cm.astype('float') / cm.sum(axis=1)[:, np.newaxis]\n",
    "    # Imprime a acurácia de cada classe\n",
    "    f = open('%s%s-weighted-accuracy.txt' % (result_path, classifier), 'a')\n",
    "    plt.show(block=False)\n",
    "    index_acurácia = (cmn.diagonal())*100\n",
    "    for i in range(len(index_acurácia)): \n",
    "        valor = valor + index_acurácia[i];\n",
    "    valor = valor/len(index_acurácia);\n",
    "    print('\\nWeighted accuracy: %.2f' %(valor), '%')\n",
    "    f.write(str('%.2f' %(valor)))\n",
    "    f.write(\"\\n\")\n",
    "    f.close()"
   ]
  },
  {
   "cell_type": "code",
   "execution_count": 8,
   "metadata": {},
   "outputs": [],
   "source": [
    "def final_accuracy(y_test, y_predicted, classifier):\n",
    "    score = accuracy_score(y_test, y_predicted)\n",
    "    print('\\nGeneral Accuracy: %.2f' % (score*100),'%')\n",
    "    f = open('%s%s-general-accuracy.txt' % (result_path, classifier), 'a')\n",
    "    f.write(\"Final accuracy: \")\n",
    "    f.write(str('%.2f' %(score*100)))\n",
    "    f.write(\"\\n\")"
   ]
  },
  {
   "cell_type": "markdown",
   "metadata": {},
   "source": [
    "<H3>Call Methods:</H3>"
   ]
  },
  {
   "cell_type": "markdown",
   "metadata": {},
   "source": [
    "Load Data"
   ]
  },
  {
   "cell_type": "code",
   "execution_count": 9,
   "metadata": {},
   "outputs": [],
   "source": [
    "x_train, y_train, x_test, y_test = load_dataset(dataset_path)"
   ]
  },
  {
   "cell_type": "code",
   "execution_count": 10,
   "metadata": {},
   "outputs": [],
   "source": [
    "data_metrics = pd.DataFrame(index=['Accuracy','F1','Precision','Recall'])"
   ]
  },
  {
   "cell_type": "markdown",
   "metadata": {},
   "source": [
    "<H3>Machine Learning Application:</H3>"
   ]
  },
  {
   "cell_type": "markdown",
   "metadata": {},
   "source": [
    "Decision Tree Classifier"
   ]
  },
  {
   "cell_type": "code",
   "execution_count": 11,
   "metadata": {},
   "outputs": [
    {
     "name": "stdout",
     "output_type": "stream",
     "text": [
      "Accuracy: 0.99942\tPrecision: 0.99942\n",
      "\n",
      "Recall: 0.99942\t\tF1: 0.99942\n",
      "\n",
      "General Accuracy: 99.94 %\n",
      "\n",
      "Weighted accuracy: 99.94 %\n",
      "\n",
      "Class Accuracy\n",
      "Class normal: 99.93 %\n",
      "Class stress: 99.95 %\n"
     ]
    },
    {
     "data": {
      "image/png": "[encoded data removed]",
      "text/plain": [
       "<Figure size 576x432 with 2 Axes>"
      ]
     },
     "metadata": {
      "needs_background": "light"
     },
     "output_type": "display_data"
    },
    {
     "data": {
      "image/png": "[encoded data removed]",
      "text/plain": [
       "<Figure size 576x432 with 2 Axes>"
      ]
     },
     "metadata": {
      "needs_background": "light"
     },
     "output_type": "display_data"
    }
   ],
   "source": [
    "classifier = 'decision-tree-classifier'\n",
    "model=DecisionTreeClassifier(random_state=np.random)\n",
    "model.fit(x_train,y_train)\n",
    "y_predicted=model.predict(x_test)\n",
    "data_metrics[classifier] = get_metrics(y_test, y_predicted)\n",
    "final_accuracy(y_test, y_predicted, classifier)\n",
    "weighted_accuracy(y_test, y_predicted, classifier)\n",
    "class_accuracy(y_test, y_predicted, classifier)\n",
    "show_confusion_matrix(y_test, y_predicted, classifier, labels)"
   ]
  },
  {
   "cell_type": "markdown",
   "metadata": {},
   "source": [
    "KNN (KNeighbors Classifier)"
   ]
  },
  {
   "cell_type": "code",
   "execution_count": 12,
   "metadata": {},
   "outputs": [
    {
     "name": "stdout",
     "output_type": "stream",
     "text": [
      "Accuracy: 0.99678\tPrecision: 0.99678\n",
      "\n",
      "Recall: 0.99678\t\tF1: 0.99678\n",
      "\n",
      "General Accuracy: 99.68 %\n",
      "\n",
      "Weighted accuracy: 99.68 %\n",
      "\n",
      "Class Accuracy\n",
      "Class normal: 99.66 %\n",
      "Class stress: 99.69 %\n"
     ]
    },
    {
     "data": {
      "image/png": "[encoded data removed]",
      "text/plain": [
       "<Figure size 576x432 with 2 Axes>"
      ]
     },
     "metadata": {
      "needs_background": "light"
     },
     "output_type": "display_data"
    },
    {
     "data": {
      "image/png": "[encoded data removed]",
      "text/plain": [
       "<Figure size 576x432 with 2 Axes>"
      ]
     },
     "metadata": {
      "needs_background": "light"
     },
     "output_type": "display_data"
    }
   ],
   "source": [
    "classifier = 'kneighbors-classifier'\n",
    "model=KNeighborsClassifier(n_neighbors=3)\n",
    "model.fit(x_train,y_train)\n",
    "y_predicted=model.predict (x_test)\n",
    "data_metrics[classifier] = get_metrics(y_test, y_predicted)\n",
    "final_accuracy(y_test, y_predicted, classifier)\n",
    "weighted_accuracy(y_test, y_predicted, classifier)\n",
    "class_accuracy(y_test, y_predicted, classifier)\n",
    "show_confusion_matrix(y_test, y_predicted, classifier, labels)"
   ]
  },
  {
   "cell_type": "markdown",
   "metadata": {},
   "source": [
    "Random Forest Classifier"
   ]
  },
  {
   "cell_type": "code",
   "execution_count": 13,
   "metadata": {
    "scrolled": false
   },
   "outputs": [
    {
     "name": "stdout",
     "output_type": "stream",
     "text": [
      "Accuracy: 0.99955\tPrecision: 0.99955\n",
      "\n",
      "Recall: 0.99955\t\tF1: 0.99955\n",
      "\n",
      "General Accuracy: 99.96 %\n",
      "\n",
      "Weighted accuracy: 99.96 %\n",
      "\n",
      "Class Accuracy\n",
      "Class normal: 99.94 %\n",
      "Class stress: 99.97 %\n"
     ]
    },
    {
     "data": {
      "image/png": "[encoded data removed]",
      "text/plain": [
       "<Figure size 576x432 with 2 Axes>"
      ]
     },
     "metadata": {
      "needs_background": "light"
     },
     "output_type": "display_data"
    },
    {
     "data": {
      "image/png": "[encoded data removed]",
      "text/plain": [
       "<Figure size 576x432 with 2 Axes>"
      ]
     },
     "metadata": {
      "needs_background": "light"
     },
     "output_type": "display_data"
    }
   ],
   "source": [
    "classifier = 'random-forest-classifier'\n",
    "model=RandomForestClassifier(n_estimators=100, criterion='entropy',\n",
    "                             max_depth=None, n_jobs=-1, bootstrap=True,\n",
    "                             random_state=np.random)\n",
    "model.fit(x_train,y_train)\n",
    "y_predicted=model.predict(x_test)\n",
    "data_metrics[classifier] = get_metrics(y_test, y_predicted)\n",
    "final_accuracy(y_test, y_predicted, classifier)\n",
    "weighted_accuracy(y_test, y_predicted, classifier)\n",
    "class_accuracy(y_test, y_predicted, classifier)\n",
    "show_confusion_matrix(y_test, y_predicted, classifier, labels)"
   ]
  },
  {
   "cell_type": "code",
   "execution_count": 14,
   "metadata": {},
   "outputs": [],
   "source": [
    "data_metrics.to_csv('%s%s' % (result_path, metric_file), index=True, header=True, sep=';', encoding='utf-8')"
   ]
  }
 ],
 "metadata": {
  "kernelspec": {
   "display_name": "Python 3",
   "language": "python",
   "name": "python3"
  },
  "language_info": {
   "codemirror_mode": {
    "name": "ipython",
    "version": 3
   },
   "file_extension": ".py",
   "mimetype": "text/x-python",
   "name": "python",
   "nbconvert_exporter": "python",
   "pygments_lexer": "ipython3",
   "version": "3.8.10"
  }
 },
 "nbformat": 4,
 "nbformat_minor": 2
}
